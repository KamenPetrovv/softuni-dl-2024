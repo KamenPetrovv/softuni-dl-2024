{
 "cells": [
  {
   "cell_type": "markdown",
   "id": "87b7bbfa-0c82-4bb9-a9cb-6d206c8a8637",
   "metadata": {},
   "source": [
    "# 02. Training and Improving Neural Networks"
   ]
  },
  {
   "cell_type": "markdown",
   "id": "59eec165-0435-49ef-b35a-1a96a5c44e62",
   "metadata": {},
   "source": [
    "Transfer learning (TL) - a machine learning technique where a model pre-trained on one task is fine-tuned for a new, **related task**"
   ]
  },
  {
   "cell_type": "code",
   "execution_count": null,
   "id": "3f034cef-046e-425b-a7ca-aafff4209f28",
   "metadata": {},
   "outputs": [],
   "source": []
  }
 ],
 "metadata": {
  "kernelspec": {
   "display_name": "Python 3 (ipykernel)",
   "language": "python",
   "name": "python3"
  },
  "language_info": {
   "codemirror_mode": {
    "name": "ipython",
    "version": 3
   },
   "file_extension": ".py",
   "mimetype": "text/x-python",
   "name": "python",
   "nbconvert_exporter": "python",
   "pygments_lexer": "ipython3",
   "version": "3.12.9"
  }
 },
 "nbformat": 4,
 "nbformat_minor": 5
}
